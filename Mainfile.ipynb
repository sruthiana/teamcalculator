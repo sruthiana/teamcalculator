{
 "cells": [
  {
   "cell_type": "code",
   "execution_count": null,
   "id": "ea8ad92b",
   "metadata": {},
   "outputs": [],
   "source": [
    "print(\"C A L C U L A T O R\")\n",
    "x=int(input(\"enter the first number:\"))\n",
    "y=int(input(\"enter the second number:\"))\n",
    "print(\"\\n1.Addition(+)\\n2.Subtraction(-)\\n3.Division(/)\\n4.Multiplication(*)\\n5.Exit\\n\")\n",
    "ch=int(input(\"Choose Operand:\"))\n",
    "if(ch==1):\n",
    "    a=add(x,y)\n",
    "    print(\"added value is\",a)\n",
    "elif(ch==2):\n",
    "    a=sub(x,y)\n",
    "    print(\"subtracted value is\",a)\n",
    "elif(ch==3):\n",
    "    a=div(x,y)\n",
    "    print(\"Divided value is\",a)\n",
    "elif(ch==4):\n",
    "    a=mul(x,y)\n",
    "    print(\"divided value is\",a)\n",
    "else:\n",
    "    print(\"invalid\")"
   ]
  }
 ],
 "metadata": {
  "kernelspec": {
   "display_name": "Python 3",
   "language": "python",
   "name": "python3"
  },
  "language_info": {
   "codemirror_mode": {
    "name": "ipython",
    "version": 3
   },
   "file_extension": ".py",
   "mimetype": "text/x-python",
   "name": "python",
   "nbconvert_exporter": "python",
   "pygments_lexer": "ipython3",
   "version": "3.8.8"
  }
 },
 "nbformat": 4,
 "nbformat_minor": 5
}
